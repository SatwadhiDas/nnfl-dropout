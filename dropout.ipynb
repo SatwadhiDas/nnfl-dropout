{
  "nbformat": 4,
  "nbformat_minor": 0,
  "metadata": {
    "colab": {
      "name": "Untitled1.ipynb",
      "provenance": [],
      "collapsed_sections": [],
      "include_colab_link": true
    },
    "kernelspec": {
      "name": "python3",
      "display_name": "Python 3"
    }
  },
  "cells": [
    {
      "cell_type": "markdown",
      "metadata": {
        "id": "view-in-github",
        "colab_type": "text"
      },
      "source": [
        "<a href=\"https://colab.research.google.com/github/SatwadhiDas/nnfl-dropout/blob/master/Untitled1.ipynb\" target=\"_parent\"><img src=\"https://colab.research.google.com/assets/colab-badge.svg\" alt=\"Open In Colab\"/></a>"
      ]
    },
    {
      "cell_type": "code",
      "metadata": {
        "id": "E49TZc1HfzTv",
        "colab_type": "code",
        "colab": {}
      },
      "source": [
        "from __future__ import print_function\n",
        "import keras\n",
        "from keras.datasets import mnist\n",
        "from keras.models import Sequential\n",
        "from keras.layers import Dense, Dropout, Flatten\n",
        "from keras.layers import Conv2D, MaxPooling2D\n",
        "from keras import backend as K\n",
        "import matplotlib.pyplot as plt\n",
        "from keras.preprocessing.image import ImageDataGenerator\n",
        "import tensorflow as tf\n",
        "import numpy as np\n",
        "import decimal\n",
        "import os\n",
        "import csv"
      ],
      "execution_count": 0,
      "outputs": []
    },
    {
      "cell_type": "code",
      "metadata": {
        "id": "NlDu3ahLjFfb",
        "colab_type": "code",
        "colab": {}
      },
      "source": [
        ""
      ],
      "execution_count": 0,
      "outputs": []
    },
    {
      "cell_type": "code",
      "metadata": {
        "id": "mOl9AGeOjG6J",
        "colab_type": "code",
        "colab": {}
      },
      "source": [
        "def findValueN(prob):\n",
        "    # pn = 256 for 2 first hidden layers\n",
        "    # pn = 512 for last layer\n",
        "        # n values are the number of hidden units at each layer\n",
        "    n1 = int(256.0/prob)\n",
        "    n2 = int(256.0/prob)\n",
        "    n3 = int(512.0/prob)\n",
        "    n = [n1,n2,n3,prob]\n",
        "        # return number o\n",
        "    float(n[3])\n",
        "    return n"
      ],
      "execution_count": 0,
      "outputs": []
    },
    {
      "cell_type": "code",
      "metadata": {
        "id": "KXoA46p7jMfI",
        "colab_type": "code",
        "colab": {}
      },
      "source": [
        "def addPValue(prob):\n",
        "        # layers all have 2048 hidden units as described in the research paper\n",
        "    n1 = 2048\n",
        "    n2 = 2048\n",
        "    n3 = 2048\n",
        "    n = [n1,n2,n3,prob]\n",
        "    float(n[3])\n",
        "    return n"
      ],
      "execution_count": 0,
      "outputs": []
    },
    {
      "cell_type": "code",
      "metadata": {
        "id": "qWO61_hajXpJ",
        "colab_type": "code",
        "colab": {}
      },
      "source": [
        "def runDropout(*layer):\n",
        "        # Sequential model and the layers that describe the model\n",
        "    model = Sequential()\n",
        "    model.add(Conv2D(28, kernel_size=(3,3), input_shape=input_shape, activation=\"relu\"))\n",
        "    # model.add(MaxPooling2D(pool_size=(2, 2)))\n",
        "    model.add(Flatten()) # Flattening the 2D arrays for fully connected layers\n",
        "    model.add(Dense(layer[0], activation='relu'))\n",
        "    model.add(Dropout(layer[3]))\n",
        "    model.add(Dense(layer[1], activation='relu'))\n",
        "    model.add(Dropout(layer[3]))\n",
        "    model.add(Dense(layer[2], activation='relu'))\n",
        "    model.add(Dropout(layer[3]))\n",
        "    model.add(Dense(10, activation='softmax'))\n",
        "\n",
        "\n",
        "        # Configure model before training\n",
        "    model.compile(optimizer='adam',\n",
        "                  loss='sparse_categorical_crossentropy',\n",
        "                  metrics=['accuracy'])\n",
        "\n",
        "\n",
        "    print(x_train.shape[0], 'train samples')\n",
        "    print(x_test.shape[0], 'test samples')\n",
        "    batch_size = 128\n",
        "    epochs = 10\n",
        "\n",
        "        # Train the model for a fixed number of epochs\n",
        "    history_dropout = model.fit_generator(training_set, \n",
        "                         steps_per_epoch=60000//64, \n",
        "                         validation_data= test_set, \n",
        "                         validation_steps=10000//64, \n",
        "                         epochs=10)\n",
        "    \n",
        "    y_pred=model.predict_classes(x_test);\n",
        "    y_test_res = y_test.reshape(1,y_test.shape[0],1);\n",
        "    y_pred_res = y_pred.reshape(1,y_test.shape[0],1);\n",
        "    print(tf.image.psnr(y_test_res,y_pred_res,max_val=1.0),'PSNR VALUE')\n",
        "\n",
        "        # Training accuracy\n",
        "    accuracy = history_dropout.history['accuracy']\n",
        "    train_err = 100.0 - 100.0*(accuracy[-1])\n",
        "\n",
        "        # Test Accuracy\n",
        "            # Validation accuracy possibly not same as Test accuracy\n",
        "    val_acc = history_dropout.history['val_accuracy']\n",
        "    test_err = 100.0 - 100.0*(val_acc[-1])\n",
        "    # *** Calculate error bars HERE ***\n",
        "    finalError = [test_err, train_err, layer[3]]\n",
        "    return finalError\n",
        "    # END OF RUN DROPOUT #\n",
        "    "
      ],
      "execution_count": 0,
      "outputs": []
    },
    {
      "cell_type": "code",
      "metadata": {
        "id": "NwoF5QCRjg25",
        "colab_type": "code",
        "colab": {}
      },
      "source": [
        "def floatRange(start, stop, step):\n",
        "  while start <= stop:\n",
        "    yield float(start)\n",
        "    start += decimal.Decimal(step)"
      ],
      "execution_count": 0,
      "outputs": []
    },
    {
      "cell_type": "code",
      "metadata": {
        "id": "zvcnWM5Qjpcr",
        "colab_type": "code",
        "colab": {}
      },
      "source": [
        "def runForAllP():\n",
        "    # lists to store ploting values locally\n",
        "        # figure a error\n",
        "    a_test_error = []\n",
        "    a_train_error = []\n",
        "        # figure b error\n",
        "    b_test_error = []\n",
        "    b_train_error = []\n",
        "        # returns the list of p values from 0.1-1.0, into list\n",
        "    pValues = [0.1,0.2]\n",
        "    pValues1 = [0.1,0.2,0.3,0.4,0.5,0.6,0.7,0.8,0.9]\n",
        "\n",
        "    print(pValues)\n",
        "    # run dropout on all values of p for both figures\n",
        "    for i in pValues:\n",
        "        varyLayer = findValueN(i)\n",
        "        constLayer = addPValue(i)\n",
        "            # Store error values for figure a\n",
        "        errorFigA = runDropout(*constLayer)\n",
        "        a_test_error.append(errorFigA[0])\n",
        "        a_train_error.append(errorFigA[1])\n",
        "        print(\"a_train_error\")\n",
        "        print(a_train_error)\n",
        "        print(\"\\n\")\n",
        "        print(\"a_test_error\")\n",
        "        print(a_test_error)\n",
        "        print(\"\\n\")\n",
        "    for i in pValues:\n",
        "        varyLayer = findValueN(i)\n",
        "        constLayer = addPValue(i)\n",
        "        errorFigB = runDropout(*varyLayer)\n",
        "        # Store error values for figure b\n",
        "        b_test_error.append(errorFigB[0])\n",
        "        b_train_error.append(errorFigB[1])\n",
        "        print(\"b_train_error\")\n",
        "        print(b_train_error)\n",
        "        print(\"\\n\")\n",
        "        print(\"b_test_error\")\n",
        "        print(b_test_error)\n",
        "        print(\"\\n\")\n"
      ],
      "execution_count": 0,
      "outputs": []
    },
    {
      "cell_type": "code",
      "metadata": {
        "id": "QqQn4QfNj6IS",
        "colab_type": "code",
        "outputId": "f2d317b2-7e19-487e-b605-51002240bdb7",
        "colab": {
          "base_uri": "https://localhost:8080/",
          "height": 1000
        }
      },
      "source": [
        "(x_train, y_train), (x_test, y_test) =mnist.load_data()\n",
        "\n",
        "# Reshaping the array to 4-dims so that it can work with the API\n",
        "x_train = x_train.reshape(x_train.shape[0], 28, 28, 1)\n",
        "x_test = x_test.reshape(x_test.shape[0], 28, 28, 1)\n",
        "input_shape = (28, 28, 1)\n",
        "# Set values to float so that we can get decimal points after division\n",
        "x_train = x_train.astype('float32')\n",
        "x_test = x_test.astype('float32')\n",
        "# Normalizing the RGB codes by dividing it to the max RGB value\n",
        "x_train /= 255\n",
        "x_test /= 255\n",
        "print(x_train.shape[0], 'train samples')\n",
        "print(x_test.shape[0], 'test samples')\n",
        "\n",
        "train_gen = ImageDataGenerator(rotation_range=8, \n",
        "                               width_shift_range=0.08, \n",
        "                               shear_range=0.3, \n",
        "                               height_shift_range=0.08, \n",
        "                               zoom_range=0.08 )\n",
        "test_gen = ImageDataGenerator()\n",
        "\n",
        "training_set= train_gen.flow(x_train, y_train, batch_size=64)\n",
        "test_set= train_gen.flow(x_test, y_test, batch_size=64)\n",
        "\n",
        "# runs both archetectures for all values of p (from 0.1-1.0, inclusive)\n",
        "# Currently takes too long to run, but I'm confident that the output will come\n",
        "    # close to the results in the figure\n",
        "runForAllP()"
      ],
      "execution_count": 27,
      "outputs": [
        {
          "output_type": "stream",
          "text": [
            "60000 train samples\n",
            "10000 test samples\n",
            "[0.1, 0.2]\n",
            "60000 train samples\n",
            "10000 test samples\n",
            "Epoch 1/10\n",
            "937/937 [==============================] - 1311s 1s/step - loss: 0.2547 - accuracy: 0.9213 - val_loss: 0.1405 - val_accuracy: 0.9627\n",
            "Epoch 2/10\n",
            "937/937 [==============================] - 1296s 1s/step - loss: 0.1193 - accuracy: 0.9656 - val_loss: 0.1273 - val_accuracy: 0.9731\n",
            "Epoch 3/10\n",
            "937/937 [==============================] - 1296s 1s/step - loss: 0.0958 - accuracy: 0.9729 - val_loss: 0.1088 - val_accuracy: 0.9750\n",
            "Epoch 4/10\n",
            "937/937 [==============================] - 1297s 1s/step - loss: 0.0852 - accuracy: 0.9759 - val_loss: 0.0473 - val_accuracy: 0.9802\n",
            "Epoch 5/10\n",
            "937/937 [==============================] - 1297s 1s/step - loss: 0.0748 - accuracy: 0.9778 - val_loss: 0.0973 - val_accuracy: 0.9795\n",
            "Epoch 6/10\n",
            "937/937 [==============================] - 1296s 1s/step - loss: 0.0690 - accuracy: 0.9803 - val_loss: 0.0247 - val_accuracy: 0.9772\n",
            "Epoch 7/10\n",
            "937/937 [==============================] - 1304s 1s/step - loss: 0.0648 - accuracy: 0.9819 - val_loss: 0.0280 - val_accuracy: 0.9807\n",
            "Epoch 8/10\n",
            "937/937 [==============================] - 1318s 1s/step - loss: 0.0608 - accuracy: 0.9824 - val_loss: 0.0532 - val_accuracy: 0.9815\n",
            "Epoch 9/10\n",
            "937/937 [==============================] - 1303s 1s/step - loss: 0.0594 - accuracy: 0.9832 - val_loss: 0.0031 - val_accuracy: 0.9825\n",
            "Epoch 10/10\n",
            "937/937 [==============================] - 1307s 1s/step - loss: 0.0539 - accuracy: 0.9846 - val_loss: 0.1395 - val_accuracy: 0.9842\n",
            "tf.Tensor(-14.491539, shape=(), dtype=float32) PSNR VALUE\n",
            "b_train_error\n",
            "[1.5416443347930908]\n",
            "\n",
            "\n",
            "b_test_error\n",
            "[1.580113172531128]\n",
            "\n",
            "\n",
            "60000 train samples\n",
            "10000 test samples\n",
            "Epoch 1/10\n",
            "937/937 [==============================] - 576s 615ms/step - loss: 0.2564 - accuracy: 0.9189 - val_loss: 0.2496 - val_accuracy: 0.9641\n",
            "Epoch 2/10\n",
            "937/937 [==============================] - 574s 612ms/step - loss: 0.1173 - accuracy: 0.9654 - val_loss: 0.2574 - val_accuracy: 0.9742\n",
            "Epoch 3/10\n",
            "937/937 [==============================] - 571s 609ms/step - loss: 0.0966 - accuracy: 0.9725 - val_loss: 0.0265 - val_accuracy: 0.9806\n",
            "Epoch 4/10\n",
            "937/937 [==============================] - 569s 607ms/step - loss: 0.0857 - accuracy: 0.9751 - val_loss: 0.0443 - val_accuracy: 0.9804\n",
            "Epoch 5/10\n",
            "937/937 [==============================] - 571s 609ms/step - loss: 0.0771 - accuracy: 0.9785 - val_loss: 0.0759 - val_accuracy: 0.9799\n",
            "Epoch 6/10\n",
            "937/937 [==============================] - 569s 607ms/step - loss: 0.0717 - accuracy: 0.9792 - val_loss: 0.0479 - val_accuracy: 0.9829\n",
            "Epoch 7/10\n",
            "937/937 [==============================] - 566s 604ms/step - loss: 0.0685 - accuracy: 0.9803 - val_loss: 0.0104 - val_accuracy: 0.9804\n",
            "Epoch 8/10\n",
            "937/937 [==============================] - 568s 606ms/step - loss: 0.0650 - accuracy: 0.9818 - val_loss: 0.1362 - val_accuracy: 0.9835\n",
            "Epoch 9/10\n",
            "937/937 [==============================] - 568s 606ms/step - loss: 0.0622 - accuracy: 0.9819 - val_loss: 0.1923 - val_accuracy: 0.9830\n",
            "Epoch 10/10\n",
            "937/937 [==============================] - 572s 610ms/step - loss: 0.0579 - accuracy: 0.9834 - val_loss: 0.0101 - val_accuracy: 0.9848\n",
            "tf.Tensor(-14.491539, shape=(), dtype=float32) PSNR VALUE\n",
            "b_train_error\n",
            "[1.5416443347930908, 1.6567647457122803]\n",
            "\n",
            "\n",
            "b_test_error\n",
            "[1.580113172531128, 1.5197277069091797]\n",
            "\n",
            "\n"
          ],
          "name": "stdout"
        },
        {
          "output_type": "error",
          "ename": "ValueError",
          "evalue": "ignored",
          "traceback": [
            "\u001b[0;31m---------------------------------------------------------------------------\u001b[0m",
            "\u001b[0;31mValueError\u001b[0m                                Traceback (most recent call last)",
            "\u001b[0;32m<ipython-input-27-0d9044ea0279>\u001b[0m in \u001b[0;36m<module>\u001b[0;34m()\u001b[0m\n\u001b[1;32m     27\u001b[0m \u001b[0;31m# Currently takes too long to run, but I'm confident that the output will come\u001b[0m\u001b[0;34m\u001b[0m\u001b[0;34m\u001b[0m\u001b[0;34m\u001b[0m\u001b[0m\n\u001b[1;32m     28\u001b[0m     \u001b[0;31m# close to the results in the figure\u001b[0m\u001b[0;34m\u001b[0m\u001b[0;34m\u001b[0m\u001b[0;34m\u001b[0m\u001b[0m\n\u001b[0;32m---> 29\u001b[0;31m \u001b[0mrunForAllP\u001b[0m\u001b[0;34m(\u001b[0m\u001b[0;34m)\u001b[0m\u001b[0;34m\u001b[0m\u001b[0;34m\u001b[0m\u001b[0m\n\u001b[0m",
            "\u001b[0;32m<ipython-input-26-00f30539bf8c>\u001b[0m in \u001b[0;36mrunForAllP\u001b[0;34m()\u001b[0m\n\u001b[1;32m     49\u001b[0m     \u001b[0mplt\u001b[0m\u001b[0;34m.\u001b[0m\u001b[0mxlabel\u001b[0m\u001b[0;34m(\u001b[0m\u001b[0;34m'Probability of retaining a unit (p)'\u001b[0m\u001b[0;34m)\u001b[0m\u001b[0;34m\u001b[0m\u001b[0;34m\u001b[0m\u001b[0m\n\u001b[1;32m     50\u001b[0m     \u001b[0mplt\u001b[0m\u001b[0;34m.\u001b[0m\u001b[0myticks\u001b[0m\u001b[0;34m(\u001b[0m\u001b[0mnp\u001b[0m\u001b[0;34m.\u001b[0m\u001b[0marange\u001b[0m\u001b[0;34m(\u001b[0m\u001b[0;36m0\u001b[0m\u001b[0;34m,\u001b[0m \u001b[0;36m5\u001b[0m\u001b[0;34m,\u001b[0m \u001b[0;36m0.5\u001b[0m\u001b[0;34m)\u001b[0m\u001b[0;34m)\u001b[0m\u001b[0;34m\u001b[0m\u001b[0;34m\u001b[0m\u001b[0m\n\u001b[0;32m---> 51\u001b[0;31m     \u001b[0mplt\u001b[0m\u001b[0;34m.\u001b[0m\u001b[0mplot\u001b[0m\u001b[0;34m(\u001b[0m\u001b[0mpValues\u001b[0m\u001b[0;34m,\u001b[0m \u001b[0ma_test_error\u001b[0m\u001b[0;34m,\u001b[0m \u001b[0mlabel\u001b[0m \u001b[0;34m=\u001b[0m \u001b[0;34m\"Test Error\"\u001b[0m\u001b[0;34m)\u001b[0m\u001b[0;34m\u001b[0m\u001b[0;34m\u001b[0m\u001b[0m\n\u001b[0m\u001b[1;32m     52\u001b[0m     \u001b[0mplt\u001b[0m\u001b[0;34m.\u001b[0m\u001b[0mplot\u001b[0m\u001b[0;34m(\u001b[0m\u001b[0mpValues\u001b[0m\u001b[0;34m,\u001b[0m \u001b[0ma_train_error\u001b[0m\u001b[0;34m,\u001b[0m \u001b[0mlabel\u001b[0m \u001b[0;34m=\u001b[0m \u001b[0;34m\"Training Error\"\u001b[0m\u001b[0;34m)\u001b[0m\u001b[0;34m\u001b[0m\u001b[0;34m\u001b[0m\u001b[0m\n\u001b[1;32m     53\u001b[0m     \u001b[0mplt\u001b[0m\u001b[0;34m.\u001b[0m\u001b[0mlegend\u001b[0m\u001b[0;34m(\u001b[0m\u001b[0mloc\u001b[0m\u001b[0;34m=\u001b[0m\u001b[0;34m'upper right'\u001b[0m\u001b[0;34m)\u001b[0m\u001b[0;34m\u001b[0m\u001b[0;34m\u001b[0m\u001b[0m\n",
            "\u001b[0;32m/usr/local/lib/python3.6/dist-packages/matplotlib/pyplot.py\u001b[0m in \u001b[0;36mplot\u001b[0;34m(scalex, scaley, data, *args, **kwargs)\u001b[0m\n\u001b[1;32m   2761\u001b[0m     return gca().plot(\n\u001b[1;32m   2762\u001b[0m         *args, scalex=scalex, scaley=scaley, **({\"data\": data} if data\n\u001b[0;32m-> 2763\u001b[0;31m         is not None else {}), **kwargs)\n\u001b[0m\u001b[1;32m   2764\u001b[0m \u001b[0;34m\u001b[0m\u001b[0m\n\u001b[1;32m   2765\u001b[0m \u001b[0;34m\u001b[0m\u001b[0m\n",
            "\u001b[0;32m/usr/local/lib/python3.6/dist-packages/matplotlib/axes/_axes.py\u001b[0m in \u001b[0;36mplot\u001b[0;34m(self, scalex, scaley, data, *args, **kwargs)\u001b[0m\n\u001b[1;32m   1644\u001b[0m         \"\"\"\n\u001b[1;32m   1645\u001b[0m         \u001b[0mkwargs\u001b[0m \u001b[0;34m=\u001b[0m \u001b[0mcbook\u001b[0m\u001b[0;34m.\u001b[0m\u001b[0mnormalize_kwargs\u001b[0m\u001b[0;34m(\u001b[0m\u001b[0mkwargs\u001b[0m\u001b[0;34m,\u001b[0m \u001b[0mmlines\u001b[0m\u001b[0;34m.\u001b[0m\u001b[0mLine2D\u001b[0m\u001b[0;34m)\u001b[0m\u001b[0;34m\u001b[0m\u001b[0;34m\u001b[0m\u001b[0m\n\u001b[0;32m-> 1646\u001b[0;31m         \u001b[0mlines\u001b[0m \u001b[0;34m=\u001b[0m \u001b[0;34m[\u001b[0m\u001b[0;34m*\u001b[0m\u001b[0mself\u001b[0m\u001b[0;34m.\u001b[0m\u001b[0m_get_lines\u001b[0m\u001b[0;34m(\u001b[0m\u001b[0;34m*\u001b[0m\u001b[0margs\u001b[0m\u001b[0;34m,\u001b[0m \u001b[0mdata\u001b[0m\u001b[0;34m=\u001b[0m\u001b[0mdata\u001b[0m\u001b[0;34m,\u001b[0m \u001b[0;34m**\u001b[0m\u001b[0mkwargs\u001b[0m\u001b[0;34m)\u001b[0m\u001b[0;34m]\u001b[0m\u001b[0;34m\u001b[0m\u001b[0;34m\u001b[0m\u001b[0m\n\u001b[0m\u001b[1;32m   1647\u001b[0m         \u001b[0;32mfor\u001b[0m \u001b[0mline\u001b[0m \u001b[0;32min\u001b[0m \u001b[0mlines\u001b[0m\u001b[0;34m:\u001b[0m\u001b[0;34m\u001b[0m\u001b[0;34m\u001b[0m\u001b[0m\n\u001b[1;32m   1648\u001b[0m             \u001b[0mself\u001b[0m\u001b[0;34m.\u001b[0m\u001b[0madd_line\u001b[0m\u001b[0;34m(\u001b[0m\u001b[0mline\u001b[0m\u001b[0;34m)\u001b[0m\u001b[0;34m\u001b[0m\u001b[0;34m\u001b[0m\u001b[0m\n",
            "\u001b[0;32m/usr/local/lib/python3.6/dist-packages/matplotlib/axes/_base.py\u001b[0m in \u001b[0;36m__call__\u001b[0;34m(self, *args, **kwargs)\u001b[0m\n\u001b[1;32m    214\u001b[0m                 \u001b[0mthis\u001b[0m \u001b[0;34m+=\u001b[0m \u001b[0margs\u001b[0m\u001b[0;34m[\u001b[0m\u001b[0;36m0\u001b[0m\u001b[0;34m]\u001b[0m\u001b[0;34m,\u001b[0m\u001b[0;34m\u001b[0m\u001b[0;34m\u001b[0m\u001b[0m\n\u001b[1;32m    215\u001b[0m                 \u001b[0margs\u001b[0m \u001b[0;34m=\u001b[0m \u001b[0margs\u001b[0m\u001b[0;34m[\u001b[0m\u001b[0;36m1\u001b[0m\u001b[0;34m:\u001b[0m\u001b[0;34m]\u001b[0m\u001b[0;34m\u001b[0m\u001b[0;34m\u001b[0m\u001b[0m\n\u001b[0;32m--> 216\u001b[0;31m             \u001b[0;32myield\u001b[0m \u001b[0;32mfrom\u001b[0m \u001b[0mself\u001b[0m\u001b[0;34m.\u001b[0m\u001b[0m_plot_args\u001b[0m\u001b[0;34m(\u001b[0m\u001b[0mthis\u001b[0m\u001b[0;34m,\u001b[0m \u001b[0mkwargs\u001b[0m\u001b[0;34m)\u001b[0m\u001b[0;34m\u001b[0m\u001b[0;34m\u001b[0m\u001b[0m\n\u001b[0m\u001b[1;32m    217\u001b[0m \u001b[0;34m\u001b[0m\u001b[0m\n\u001b[1;32m    218\u001b[0m     \u001b[0;32mdef\u001b[0m \u001b[0mget_next_color\u001b[0m\u001b[0;34m(\u001b[0m\u001b[0mself\u001b[0m\u001b[0;34m)\u001b[0m\u001b[0;34m:\u001b[0m\u001b[0;34m\u001b[0m\u001b[0;34m\u001b[0m\u001b[0m\n",
            "\u001b[0;32m/usr/local/lib/python3.6/dist-packages/matplotlib/axes/_base.py\u001b[0m in \u001b[0;36m_plot_args\u001b[0;34m(self, tup, kwargs)\u001b[0m\n\u001b[1;32m    340\u001b[0m \u001b[0;34m\u001b[0m\u001b[0m\n\u001b[1;32m    341\u001b[0m         \u001b[0;32mif\u001b[0m \u001b[0mx\u001b[0m\u001b[0;34m.\u001b[0m\u001b[0mshape\u001b[0m\u001b[0;34m[\u001b[0m\u001b[0;36m0\u001b[0m\u001b[0;34m]\u001b[0m \u001b[0;34m!=\u001b[0m \u001b[0my\u001b[0m\u001b[0;34m.\u001b[0m\u001b[0mshape\u001b[0m\u001b[0;34m[\u001b[0m\u001b[0;36m0\u001b[0m\u001b[0;34m]\u001b[0m\u001b[0;34m:\u001b[0m\u001b[0;34m\u001b[0m\u001b[0;34m\u001b[0m\u001b[0m\n\u001b[0;32m--> 342\u001b[0;31m             raise ValueError(f\"x and y must have same first dimension, but \"\n\u001b[0m\u001b[1;32m    343\u001b[0m                              f\"have shapes {x.shape} and {y.shape}\")\n\u001b[1;32m    344\u001b[0m         \u001b[0;32mif\u001b[0m \u001b[0mx\u001b[0m\u001b[0;34m.\u001b[0m\u001b[0mndim\u001b[0m \u001b[0;34m>\u001b[0m \u001b[0;36m2\u001b[0m \u001b[0;32mor\u001b[0m \u001b[0my\u001b[0m\u001b[0;34m.\u001b[0m\u001b[0mndim\u001b[0m \u001b[0;34m>\u001b[0m \u001b[0;36m2\u001b[0m\u001b[0;34m:\u001b[0m\u001b[0;34m\u001b[0m\u001b[0;34m\u001b[0m\u001b[0m\n",
            "\u001b[0;31mValueError\u001b[0m: x and y must have same first dimension, but have shapes (2,) and (0,)"
          ]
        },
        {
          "output_type": "display_data",
          "data": {
            "image/png": "[encoded data removed]",
            "text/plain": [
              "<Figure size 432x288 with 1 Axes>"
            ]
          },
          "metadata": {
            "tags": [],
            "needs_background": "light"
          }
        }
      ]
    }
  ]
}
